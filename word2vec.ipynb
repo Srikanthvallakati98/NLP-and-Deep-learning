{
 "cells": [
  {
   "cell_type": "code",
   "execution_count": 1,
   "metadata": {},
   "outputs": [],
   "source": [
    "import nltk "
   ]
  },
  {
   "cell_type": "code",
   "execution_count": 10,
   "metadata": {},
   "outputs": [],
   "source": [
    "from gensim.models import Word2Vec\n",
    "from nltk.corpus import stopwords\n",
    "import re\n"
   ]
  },
  {
   "cell_type": "code",
   "execution_count": 11,
   "metadata": {},
   "outputs": [],
   "source": [
    "paragraph = \"\"\"I have three visions for India. In 3000 years of our history, people from all over \n",
    "               the world have come and invaded us, captured our lands, conquered our minds. \n",
    "               From Alexander onwards, the Greeks, the Turks, the Moguls, the Portuguese, the British,\n",
    "               the French, the Dutch, all of them came and looted us, took over what was ours. \n",
    "               Yet we have not done this to any other nation. We have not conquered anyone. \n",
    "               We have not grabbed their land, their culture, \n",
    "               their history and tried to enforce our way of life on them. \n",
    "               Why? Because we respect the freedom of others.That is why my \n",
    "               first vision is that of freedom. I believe that India got its first vision of \n",
    "               this in 1857, when we started the War of Independence. It is this freedom that\n",
    "               we must protect and nurture and build on. If we are not free, no one will respect us.\n",
    "               My second vision for India’s development. For fifty years we have been a developing nation.\n",
    "               It is time we see ourselves as a developed nation. We are among the top 5 nations of the world\n",
    "               in terms of GDP. We have a 10 percent growth rate in most areas. Our poverty levels are falling.\n",
    "               Our achievements are being globally recognised today. Yet we lack the self-confidence to\n",
    "               see ourselves as a developed nation, self-reliant and self-assured. Isn’t this incorrect?\n",
    "               I have a third vision. India must stand up to the world. Because I believe that unless India \n",
    "               stands up to the world, no one will respect us. Only strength respects strength. We must be \n",
    "               strong not only as a military power but also as an economic power. Both must go hand-in-hand. \n",
    "               My good fortune was to have worked with three great minds. Dr. Vikram Sarabhai of the Dept. of \n",
    "               space, Professor Satish Dhawan, who succeeded him and Dr. Brahm Prakash, father of nuclear material.\n",
    "               I was lucky to have worked with all three of them closely and consider this the great opportunity of my life. \n",
    "               I see four milestones in my career\"\"\""
   ]
  },
  {
   "cell_type": "code",
   "execution_count": 12,
   "metadata": {},
   "outputs": [],
   "source": [
    "text = re.sub(r'\\[[0-9]*\\]',' ',paragraph)\n",
    "text = re.sub(r'\\s+',' ',text)\n",
    "text = text.lower()\n",
    "text = re.sub(r'\\d',' ',text)\n",
    "text = re.sub(r'\\s+',' ',text)"
   ]
  },
  {
   "cell_type": "code",
   "execution_count": 13,
   "metadata": {},
   "outputs": [],
   "source": [
    "sentences = nltk.sent_tokenize(text)\n",
    "\n",
    "sentences = [nltk.word_tokenize(sentence) for sentence in sentences]\n",
    "\n",
    "for i in range(len(sentences)):\n",
    "    sentences[i] = [word for word in sentences[i] if word not in stopwords.words('english')]\n",
    "    "
   ]
  },
  {
   "cell_type": "code",
   "execution_count": 18,
   "metadata": {},
   "outputs": [
    {
     "data": {
      "text/plain": [
       "<gensim.models.word2vec.Word2Vec at 0x1c537c55460>"
      ]
     },
     "execution_count": 18,
     "metadata": {},
     "output_type": "execute_result"
    }
   ],
   "source": [
    "model = Word2Vec(sentences, min_count=1)\n",
    "model"
   ]
  },
  {
   "cell_type": "code",
   "execution_count": 19,
   "metadata": {},
   "outputs": [
    {
     "data": {
      "text/plain": [
       "{'three': <gensim.models.keyedvectors.Vocab at 0x1c537db81c0>,\n",
       " 'visions': <gensim.models.keyedvectors.Vocab at 0x1c537db8220>,\n",
       " 'india': <gensim.models.keyedvectors.Vocab at 0x1c537db82b0>,\n",
       " '.': <gensim.models.keyedvectors.Vocab at 0x1c537db8340>,\n",
       " 'years': <gensim.models.keyedvectors.Vocab at 0x1c537db83a0>,\n",
       " 'history': <gensim.models.keyedvectors.Vocab at 0x1c537db8430>,\n",
       " ',': <gensim.models.keyedvectors.Vocab at 0x1c537db8490>,\n",
       " 'people': <gensim.models.keyedvectors.Vocab at 0x1c537db84f0>,\n",
       " 'world': <gensim.models.keyedvectors.Vocab at 0x1c537db8550>,\n",
       " 'come': <gensim.models.keyedvectors.Vocab at 0x1c537db85b0>,\n",
       " 'invaded': <gensim.models.keyedvectors.Vocab at 0x1c537db8610>,\n",
       " 'us': <gensim.models.keyedvectors.Vocab at 0x1c537db8670>,\n",
       " 'captured': <gensim.models.keyedvectors.Vocab at 0x1c537db86d0>,\n",
       " 'lands': <gensim.models.keyedvectors.Vocab at 0x1c537db8730>,\n",
       " 'conquered': <gensim.models.keyedvectors.Vocab at 0x1c537db8790>,\n",
       " 'minds': <gensim.models.keyedvectors.Vocab at 0x1c537db87f0>,\n",
       " 'alexander': <gensim.models.keyedvectors.Vocab at 0x1c537db8850>,\n",
       " 'onwards': <gensim.models.keyedvectors.Vocab at 0x1c537db8880>,\n",
       " 'greeks': <gensim.models.keyedvectors.Vocab at 0x1c537db88e0>,\n",
       " 'turks': <gensim.models.keyedvectors.Vocab at 0x1c537db8910>,\n",
       " 'moguls': <gensim.models.keyedvectors.Vocab at 0x1c537db8970>,\n",
       " 'portuguese': <gensim.models.keyedvectors.Vocab at 0x1c537db89a0>,\n",
       " 'british': <gensim.models.keyedvectors.Vocab at 0x1c537db8a00>,\n",
       " 'french': <gensim.models.keyedvectors.Vocab at 0x1c537db8a60>,\n",
       " 'dutch': <gensim.models.keyedvectors.Vocab at 0x1c537db8ac0>,\n",
       " 'came': <gensim.models.keyedvectors.Vocab at 0x1c537db8b20>,\n",
       " 'looted': <gensim.models.keyedvectors.Vocab at 0x1c537db8b80>,\n",
       " 'took': <gensim.models.keyedvectors.Vocab at 0x1c537db8be0>,\n",
       " 'yet': <gensim.models.keyedvectors.Vocab at 0x1c537db8c40>,\n",
       " 'done': <gensim.models.keyedvectors.Vocab at 0x1c537db8ca0>,\n",
       " 'nation': <gensim.models.keyedvectors.Vocab at 0x1c537db8d00>,\n",
       " 'anyone': <gensim.models.keyedvectors.Vocab at 0x1c537db8d60>,\n",
       " 'grabbed': <gensim.models.keyedvectors.Vocab at 0x1c537db8dc0>,\n",
       " 'land': <gensim.models.keyedvectors.Vocab at 0x1c537db8e20>,\n",
       " 'culture': <gensim.models.keyedvectors.Vocab at 0x1c537db8e80>,\n",
       " 'tried': <gensim.models.keyedvectors.Vocab at 0x1c537db8ee0>,\n",
       " 'enforce': <gensim.models.keyedvectors.Vocab at 0x1c537db8f40>,\n",
       " 'way': <gensim.models.keyedvectors.Vocab at 0x1c537db8fa0>,\n",
       " 'life': <gensim.models.keyedvectors.Vocab at 0x1c537db9040>,\n",
       " '?': <gensim.models.keyedvectors.Vocab at 0x1c537db90a0>,\n",
       " 'respect': <gensim.models.keyedvectors.Vocab at 0x1c537db9100>,\n",
       " 'freedom': <gensim.models.keyedvectors.Vocab at 0x1c537db9160>,\n",
       " 'others.that': <gensim.models.keyedvectors.Vocab at 0x1c537db91c0>,\n",
       " 'first': <gensim.models.keyedvectors.Vocab at 0x1c537db9220>,\n",
       " 'vision': <gensim.models.keyedvectors.Vocab at 0x1c537db9280>,\n",
       " 'believe': <gensim.models.keyedvectors.Vocab at 0x1c537db92e0>,\n",
       " 'got': <gensim.models.keyedvectors.Vocab at 0x1c537db9340>,\n",
       " 'started': <gensim.models.keyedvectors.Vocab at 0x1c537db93a0>,\n",
       " 'war': <gensim.models.keyedvectors.Vocab at 0x1c537db9400>,\n",
       " 'independence': <gensim.models.keyedvectors.Vocab at 0x1c537db9460>,\n",
       " 'must': <gensim.models.keyedvectors.Vocab at 0x1c537db94c0>,\n",
       " 'protect': <gensim.models.keyedvectors.Vocab at 0x1c537db9520>,\n",
       " 'nurture': <gensim.models.keyedvectors.Vocab at 0x1c537db9580>,\n",
       " 'build': <gensim.models.keyedvectors.Vocab at 0x1c537db95e0>,\n",
       " 'free': <gensim.models.keyedvectors.Vocab at 0x1c537db9640>,\n",
       " 'one': <gensim.models.keyedvectors.Vocab at 0x1c537db96a0>,\n",
       " 'second': <gensim.models.keyedvectors.Vocab at 0x1c537db9700>,\n",
       " '’': <gensim.models.keyedvectors.Vocab at 0x1c537db9760>,\n",
       " 'development': <gensim.models.keyedvectors.Vocab at 0x1c537db97c0>,\n",
       " 'fifty': <gensim.models.keyedvectors.Vocab at 0x1c537db9820>,\n",
       " 'developing': <gensim.models.keyedvectors.Vocab at 0x1c537db9880>,\n",
       " 'time': <gensim.models.keyedvectors.Vocab at 0x1c537db98e0>,\n",
       " 'see': <gensim.models.keyedvectors.Vocab at 0x1c537db9940>,\n",
       " 'developed': <gensim.models.keyedvectors.Vocab at 0x1c537db99a0>,\n",
       " 'among': <gensim.models.keyedvectors.Vocab at 0x1c537db9a00>,\n",
       " 'top': <gensim.models.keyedvectors.Vocab at 0x1c537db9a60>,\n",
       " 'nations': <gensim.models.keyedvectors.Vocab at 0x1c537db9ac0>,\n",
       " 'terms': <gensim.models.keyedvectors.Vocab at 0x1c537c550a0>,\n",
       " 'gdp': <gensim.models.keyedvectors.Vocab at 0x1c537c552b0>,\n",
       " 'percent': <gensim.models.keyedvectors.Vocab at 0x1c536c6cd00>,\n",
       " 'growth': <gensim.models.keyedvectors.Vocab at 0x1c536721dc0>,\n",
       " 'rate': <gensim.models.keyedvectors.Vocab at 0x1c536747a00>,\n",
       " 'areas': <gensim.models.keyedvectors.Vocab at 0x1c537db9b20>,\n",
       " 'poverty': <gensim.models.keyedvectors.Vocab at 0x1c537db9b80>,\n",
       " 'levels': <gensim.models.keyedvectors.Vocab at 0x1c537db9be0>,\n",
       " 'falling': <gensim.models.keyedvectors.Vocab at 0x1c537db9c40>,\n",
       " 'achievements': <gensim.models.keyedvectors.Vocab at 0x1c537db9ca0>,\n",
       " 'globally': <gensim.models.keyedvectors.Vocab at 0x1c537db9d00>,\n",
       " 'recognised': <gensim.models.keyedvectors.Vocab at 0x1c537db9d60>,\n",
       " 'today': <gensim.models.keyedvectors.Vocab at 0x1c537db9dc0>,\n",
       " 'lack': <gensim.models.keyedvectors.Vocab at 0x1c537db9e20>,\n",
       " 'self-confidence': <gensim.models.keyedvectors.Vocab at 0x1c537db9e80>,\n",
       " 'self-reliant': <gensim.models.keyedvectors.Vocab at 0x1c537db9ee0>,\n",
       " 'self-assured': <gensim.models.keyedvectors.Vocab at 0x1c537db9f40>,\n",
       " 'incorrect': <gensim.models.keyedvectors.Vocab at 0x1c537db9fa0>,\n",
       " 'third': <gensim.models.keyedvectors.Vocab at 0x1c537dbb040>,\n",
       " 'stand': <gensim.models.keyedvectors.Vocab at 0x1c537dbb0a0>,\n",
       " 'unless': <gensim.models.keyedvectors.Vocab at 0x1c537dbb100>,\n",
       " 'stands': <gensim.models.keyedvectors.Vocab at 0x1c537dbb160>,\n",
       " 'strength': <gensim.models.keyedvectors.Vocab at 0x1c537dbb1c0>,\n",
       " 'respects': <gensim.models.keyedvectors.Vocab at 0x1c537dbb220>,\n",
       " 'strong': <gensim.models.keyedvectors.Vocab at 0x1c537dbb280>,\n",
       " 'military': <gensim.models.keyedvectors.Vocab at 0x1c537dbb2e0>,\n",
       " 'power': <gensim.models.keyedvectors.Vocab at 0x1c537dbb340>,\n",
       " 'also': <gensim.models.keyedvectors.Vocab at 0x1c537dbb3a0>,\n",
       " 'economic': <gensim.models.keyedvectors.Vocab at 0x1c537dbb400>,\n",
       " 'go': <gensim.models.keyedvectors.Vocab at 0x1c537dbb460>,\n",
       " 'hand-in-hand': <gensim.models.keyedvectors.Vocab at 0x1c537dbb4c0>,\n",
       " 'good': <gensim.models.keyedvectors.Vocab at 0x1c537dbb520>,\n",
       " 'fortune': <gensim.models.keyedvectors.Vocab at 0x1c537dbb580>,\n",
       " 'worked': <gensim.models.keyedvectors.Vocab at 0x1c537dbb5e0>,\n",
       " 'great': <gensim.models.keyedvectors.Vocab at 0x1c537dbb640>,\n",
       " 'dr.': <gensim.models.keyedvectors.Vocab at 0x1c537dbb6a0>,\n",
       " 'vikram': <gensim.models.keyedvectors.Vocab at 0x1c537dbb700>,\n",
       " 'sarabhai': <gensim.models.keyedvectors.Vocab at 0x1c537dbb760>,\n",
       " 'dept': <gensim.models.keyedvectors.Vocab at 0x1c537dbb7c0>,\n",
       " 'space': <gensim.models.keyedvectors.Vocab at 0x1c537dbb820>,\n",
       " 'professor': <gensim.models.keyedvectors.Vocab at 0x1c537dbb880>,\n",
       " 'satish': <gensim.models.keyedvectors.Vocab at 0x1c537dbb8e0>,\n",
       " 'dhawan': <gensim.models.keyedvectors.Vocab at 0x1c537dbb940>,\n",
       " 'succeeded': <gensim.models.keyedvectors.Vocab at 0x1c537dbb9a0>,\n",
       " 'brahm': <gensim.models.keyedvectors.Vocab at 0x1c537dbba00>,\n",
       " 'prakash': <gensim.models.keyedvectors.Vocab at 0x1c537dbba60>,\n",
       " 'father': <gensim.models.keyedvectors.Vocab at 0x1c537dbbac0>,\n",
       " 'nuclear': <gensim.models.keyedvectors.Vocab at 0x1c537dbbb20>,\n",
       " 'material': <gensim.models.keyedvectors.Vocab at 0x1c537dbbb80>,\n",
       " 'lucky': <gensim.models.keyedvectors.Vocab at 0x1c537dbbbe0>,\n",
       " 'closely': <gensim.models.keyedvectors.Vocab at 0x1c537dbbc40>,\n",
       " 'consider': <gensim.models.keyedvectors.Vocab at 0x1c537dbbca0>,\n",
       " 'opportunity': <gensim.models.keyedvectors.Vocab at 0x1c537dbbd00>,\n",
       " 'four': <gensim.models.keyedvectors.Vocab at 0x1c537dbbd60>,\n",
       " 'milestones': <gensim.models.keyedvectors.Vocab at 0x1c537dbbdc0>,\n",
       " 'career': <gensim.models.keyedvectors.Vocab at 0x1c537dbbe20>}"
      ]
     },
     "execution_count": 19,
     "metadata": {},
     "output_type": "execute_result"
    }
   ],
   "source": [
    "words = model.wv.vocab\n",
    "words"
   ]
  },
  {
   "cell_type": "code",
   "execution_count": 21,
   "metadata": {},
   "outputs": [
    {
     "data": {
      "text/plain": [
       "array([ 1.8762453e-03, -5.3096208e-04,  3.6868569e-03,  2.6587723e-04,\n",
       "        7.0316228e-04,  2.6337723e-03, -3.4543804e-03, -2.9791652e-03,\n",
       "       -8.0192153e-04, -2.6944282e-03,  4.0859621e-04,  1.8544426e-03,\n",
       "       -1.8565319e-03,  4.7601201e-03,  3.8979375e-03, -6.1543265e-05,\n",
       "        3.6635525e-03,  4.2241421e-03,  4.5108888e-03,  1.1899903e-03,\n",
       "        1.2548239e-03, -1.6274470e-03,  1.9581916e-03, -4.9352134e-03,\n",
       "        1.8918354e-03,  1.3887647e-03, -4.4521890e-03, -4.3529053e-03,\n",
       "        3.4525446e-04, -4.1990541e-04,  2.9370696e-03,  3.0282186e-03,\n",
       "        1.2563104e-03, -2.4216878e-03, -2.9250376e-03,  5.7153159e-04,\n",
       "        1.7969956e-03,  6.8505900e-04, -4.5003854e-03,  1.8076132e-03,\n",
       "        1.5362202e-03,  2.9188117e-03,  1.1017892e-03,  4.1312221e-03,\n",
       "       -4.9374816e-03,  4.6086591e-03, -1.3183050e-03, -1.7467084e-04,\n",
       "       -1.8209228e-03,  1.3646976e-03, -4.2818268e-03, -1.5124027e-03,\n",
       "       -4.1739400e-03,  2.1157297e-03,  7.8228523e-04, -3.2488827e-03,\n",
       "        2.1893932e-03, -2.3740244e-03, -1.5055990e-03,  2.4789171e-03,\n",
       "       -1.4479635e-03, -2.3980418e-03, -4.8634103e-03, -4.6404991e-03,\n",
       "       -4.2601293e-03,  1.2364839e-04,  4.8412392e-03,  4.5759510e-03,\n",
       "       -8.2786445e-04,  4.9082222e-03, -3.8413536e-03,  3.4790630e-03,\n",
       "        3.2393136e-03, -2.9885957e-03, -1.7847551e-03,  3.2455493e-03,\n",
       "        2.9489438e-03,  4.1595758e-03, -1.4098058e-03,  1.1004815e-03,\n",
       "        3.1393315e-03,  4.6830289e-03,  7.5507391e-04, -3.6436922e-04,\n",
       "       -1.1179184e-03,  6.4642821e-04,  4.7017791e-04, -1.5377400e-03,\n",
       "       -1.0817460e-03, -5.3634495e-04,  2.5755476e-04,  3.7860305e-03,\n",
       "       -2.4578690e-03,  2.3410162e-03,  3.8919883e-04,  4.6723085e-03,\n",
       "       -3.2209950e-03,  3.4096525e-03, -2.7875116e-03,  5.3770513e-05],\n",
       "      dtype=float32)"
      ]
     },
     "execution_count": 21,
     "metadata": {},
     "output_type": "execute_result"
    }
   ],
   "source": [
    "vector = model.wv['war']\n",
    "vector"
   ]
  },
  {
   "cell_type": "code",
   "execution_count": 22,
   "metadata": {},
   "outputs": [
    {
     "data": {
      "text/plain": [
       "[('stands', 0.19862762093544006),\n",
       " ('freedom', 0.19815123081207275),\n",
       " ('globally', 0.17106539011001587),\n",
       " ('history', 0.16584064066410065),\n",
       " ('prakash', 0.16231676936149597),\n",
       " ('developed', 0.15676699578762054),\n",
       " ('grabbed', 0.15286532044410706),\n",
       " ('invaded', 0.15169543027877808),\n",
       " ('incorrect', 0.14354777336120605),\n",
       " ('hand-in-hand', 0.12864404916763306)]"
      ]
     },
     "execution_count": 22,
     "metadata": {},
     "output_type": "execute_result"
    }
   ],
   "source": [
    "similar = model.wv.most_similar('vikram')\n",
    "similar"
   ]
  },
  {
   "cell_type": "code",
   "execution_count": null,
   "metadata": {},
   "outputs": [],
   "source": []
  }
 ],
 "metadata": {
  "kernelspec": {
   "display_name": "Python 3",
   "language": "python",
   "name": "python3"
  },
  "language_info": {
   "codemirror_mode": {
    "name": "ipython",
    "version": 3
   },
   "file_extension": ".py",
   "mimetype": "text/x-python",
   "name": "python",
   "nbconvert_exporter": "python",
   "pygments_lexer": "ipython3",
   "version": "3.8.3"
  }
 },
 "nbformat": 4,
 "nbformat_minor": 4
}
